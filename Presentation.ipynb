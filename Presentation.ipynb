{
 "cells": [
  {
   "cell_type": "markdown",
   "id": "e131d1ab",
   "metadata": {},
   "source": [
    "# Intelligence artificielle"
   ]
  },
  {
   "cell_type": "markdown",
   "id": "ecb80c3c",
   "metadata": {},
   "source": [
    "Groupe 5: Catarina Silva Roriz, Yusong Zhang, Valentin Malhas, Antoine Tarte"
   ]
  },
  {
   "cell_type": "markdown",
   "id": "1b4653b2",
   "metadata": {},
   "source": [
    "## Introduction"
   ]
  },
  {
   "cell_type": "markdown",
   "id": "3b7930d2",
   "metadata": {},
   "source": []
  },
  {
   "cell_type": "markdown",
   "id": "b3d4585f",
   "metadata": {},
   "source": [
    "## Ethique"
   ]
  },
  {
   "cell_type": "markdown",
   "id": "b0f51681",
   "metadata": {},
   "source": []
  },
  {
   "cell_type": "markdown",
   "id": "7e1b5cb8",
   "metadata": {},
   "source": [
    "## Présentation de notre modèle"
   ]
  },
  {
   "cell_type": "markdown",
   "id": "cd69c07e",
   "metadata": {},
   "source": []
  },
  {
   "cell_type": "markdown",
   "id": "629f0406",
   "metadata": {},
   "source": [
    "### Traitement des données"
   ]
  },
  {
   "cell_type": "markdown",
   "id": "27d785d9",
   "metadata": {},
   "source": []
  },
  {
   "cell_type": "markdown",
   "id": "54906678",
   "metadata": {},
   "source": [
    "### Modèle utilises et autre ... (a déterminer)"
   ]
  },
  {
   "cell_type": "markdown",
   "id": "00fced09",
   "metadata": {},
   "source": []
  }
 ],
 "metadata": {
  "kernelspec": {
   "display_name": "Python 3 (ipykernel)",
   "language": "python",
   "name": "python3"
  },
  "language_info": {
   "codemirror_mode": {
    "name": "ipython",
    "version": 3
   },
   "file_extension": ".py",
   "mimetype": "text/x-python",
   "name": "python",
   "nbconvert_exporter": "python",
   "pygments_lexer": "ipython3",
   "version": "3.10.9"
  }
 },
 "nbformat": 4,
 "nbformat_minor": 5
}
