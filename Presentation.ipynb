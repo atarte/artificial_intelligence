{
 "cells": [
  {
   "cell_type": "markdown",
   "id": "f32fd0fc",
   "metadata": {},
   "source": [
    "# Intelligence artificielle"
   ]
  },
  {
   "cell_type": "markdown",
   "id": "51abb3d8",
   "metadata": {},
   "source": [
    "Groupe 5: Catarina Silva Roriz, Yusong Zhang, Valentin Malhas, Antoine Tarte"
   ]
  },
  {
   "cell_type": "markdown",
   "id": "63d34175",
   "metadata": {},
   "source": [
    "## Introduction"
   ]
  },
  {
   "cell_type": "markdown",
   "id": "88d6b8c1",
   "metadata": {},
   "source": []
  },
  {
   "cell_type": "markdown",
   "id": "ce19c53a",
   "metadata": {},
   "source": [
    "## Ethique"
   ]
  },
  {
   "cell_type": "markdown",
   "id": "f3de133b",
   "metadata": {},
   "source": []
  },
  {
   "cell_type": "markdown",
   "id": "f4ed6588",
   "metadata": {},
   "source": [
    "## Présentation de notre modèle"
   ]
  },
  {
   "cell_type": "markdown",
   "id": "f280bff3",
   "metadata": {},
   "source": []
  },
  {
   "cell_type": "markdown",
   "id": "d3fa721e",
   "metadata": {},
   "source": [
    "## Analyse des données"
   ]
  },
  {
   "cell_type": "markdown",
   "id": "5c9559c9",
   "metadata": {},
   "source": []
  },
  {
   "cell_type": "markdown",
   "id": "e38890d9",
   "metadata": {},
   "source": [
    "### Traitement des données"
   ]
  },
  {
   "cell_type": "markdown",
   "id": "f80ae8d0",
   "metadata": {},
   "source": []
  },
  {
   "cell_type": "markdown",
   "id": "793952f7",
   "metadata": {},
   "source": [
    "### Modèle utilises et autre ... (a déterminer)"
   ]
  },
  {
   "cell_type": "markdown",
   "id": "188e5b3d",
   "metadata": {},
   "source": []
  }
 ],
 "metadata": {
  "kernelspec": {
   "display_name": "Python 3 (ipykernel)",
   "language": "python",
   "name": "python3"
  },
  "language_info": {
   "codemirror_mode": {
    "name": "ipython",
    "version": 3
   },
   "file_extension": ".py",
   "mimetype": "text/x-python",
   "name": "python",
   "nbconvert_exporter": "python",
   "pygments_lexer": "ipython3",
   "version": "3.10.9"
  }
 },
 "nbformat": 4,
 "nbformat_minor": 5
}
